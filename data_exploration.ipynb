{
 "cells": [
  {
   "cell_type": "markdown",
   "metadata": {},
   "source": [
    "# Mystery, Thriller & Crime Books\n",
    "## Goodreads Book Graph Datasets\n",
    "\n",
    "Courtsey of Mengting Wan\n",
    "Citation:\n",
    "* Mengting Wan, Julian McAuley, \"Item Recommendation on Monotonic Behavior Chains\", in RecSys'18.\n",
    "* Mengting Wan, Rishabh Misra, Ndapa Nakashole, Julian McAuley, \"Fine-Grained Spoiler Detection from Large-Scale Review Corpora\", in ACL'19."
   ]
  },
  {
   "cell_type": "markdown",
   "metadata": {},
   "source": [
    "## Load Data"
   ]
  },
  {
   "cell_type": "code",
   "execution_count": 1,
   "metadata": {},
   "outputs": [],
   "source": [
    "# packages\n",
    "import pandas as pd\n",
    "import seaborn as sns\n",
    "import matplotlib.pyplot as plt"
   ]
  },
  {
   "cell_type": "code",
   "execution_count": null,
   "metadata": {},
   "outputs": [],
   "source": [
    "# need to load data...\n",
    "# data = pd.read_json(\n",
    "#     \"goodreads_books_mystery_thriller_crime.json\",\n",
    "#     lines=True,\n",
    "# )"
   ]
  },
  {
   "cell_type": "code",
   "execution_count": 3,
   "metadata": {},
   "outputs": [
    {
     "data": {
      "text/html": [
       "<div>\n",
       "<style scoped>\n",
       "    .dataframe tbody tr th:only-of-type {\n",
       "        vertical-align: middle;\n",
       "    }\n",
       "\n",
       "    .dataframe tbody tr th {\n",
       "        vertical-align: top;\n",
       "    }\n",
       "\n",
       "    .dataframe thead th {\n",
       "        text-align: right;\n",
       "    }\n",
       "</style>\n",
       "<table border=\"1\" class=\"dataframe\">\n",
       "  <thead>\n",
       "    <tr style=\"text-align: right;\">\n",
       "      <th></th>\n",
       "      <th>isbn</th>\n",
       "      <th>text_reviews_count</th>\n",
       "      <th>series</th>\n",
       "      <th>country_code</th>\n",
       "      <th>language_code</th>\n",
       "      <th>popular_shelves</th>\n",
       "      <th>asin</th>\n",
       "      <th>is_ebook</th>\n",
       "      <th>average_rating</th>\n",
       "      <th>kindle_asin</th>\n",
       "      <th>...</th>\n",
       "      <th>publication_month</th>\n",
       "      <th>edition_information</th>\n",
       "      <th>publication_year</th>\n",
       "      <th>url</th>\n",
       "      <th>image_url</th>\n",
       "      <th>book_id</th>\n",
       "      <th>ratings_count</th>\n",
       "      <th>work_id</th>\n",
       "      <th>title</th>\n",
       "      <th>title_without_series</th>\n",
       "    </tr>\n",
       "  </thead>\n",
       "  <tbody>\n",
       "    <tr>\n",
       "      <th>145981</th>\n",
       "      <td>0764205609</td>\n",
       "      <td>215</td>\n",
       "      <td>[509640]</td>\n",
       "      <td>US</td>\n",
       "      <td>en-US</td>\n",
       "      <td>[{'count': '2015', 'name': 'to-read'}, {'count...</td>\n",
       "      <td></td>\n",
       "      <td>false</td>\n",
       "      <td>3.49</td>\n",
       "      <td>B00B5JKLRW</td>\n",
       "      <td>...</td>\n",
       "      <td></td>\n",
       "      <td></td>\n",
       "      <td></td>\n",
       "      <td>https://www.goodreads.com/book/show/5103695-el...</td>\n",
       "      <td>https://images.gr-assets.com/books/1267307488m...</td>\n",
       "      <td>5103695</td>\n",
       "      <td>1528</td>\n",
       "      <td>5170459</td>\n",
       "      <td>Elisha's Bones (Jack Hawthorne Adventure #1)</td>\n",
       "      <td>Elisha's Bones (Jack Hawthorne Adventure #1)</td>\n",
       "    </tr>\n",
       "    <tr>\n",
       "      <th>10273</th>\n",
       "      <td>0590453874</td>\n",
       "      <td>35</td>\n",
       "      <td>[1099021]</td>\n",
       "      <td>US</td>\n",
       "      <td></td>\n",
       "      <td>[{'count': '300', 'name': 'to-read'}, {'count'...</td>\n",
       "      <td></td>\n",
       "      <td>false</td>\n",
       "      <td>3.59</td>\n",
       "      <td></td>\n",
       "      <td>...</td>\n",
       "      <td>8</td>\n",
       "      <td></td>\n",
       "      <td>1993</td>\n",
       "      <td>https://www.goodreads.com/book/show/176475.The...</td>\n",
       "      <td>https://s.gr-assets.com/assets/nophoto/book/11...</td>\n",
       "      <td>176475</td>\n",
       "      <td>654</td>\n",
       "      <td>26229442</td>\n",
       "      <td>The Dead Girlfriend</td>\n",
       "      <td>The Dead Girlfriend</td>\n",
       "    </tr>\n",
       "    <tr>\n",
       "      <th>97167</th>\n",
       "      <td></td>\n",
       "      <td>10</td>\n",
       "      <td>[962103]</td>\n",
       "      <td>US</td>\n",
       "      <td></td>\n",
       "      <td>[{'count': '320', 'name': 'to-read'}, {'count'...</td>\n",
       "      <td>B01MSWZ1C2</td>\n",
       "      <td>true</td>\n",
       "      <td>4.12</td>\n",
       "      <td>B01MSWZ1C2</td>\n",
       "      <td>...</td>\n",
       "      <td></td>\n",
       "      <td></td>\n",
       "      <td></td>\n",
       "      <td>https://www.goodreads.com/book/show/33578710-w...</td>\n",
       "      <td>https://s.gr-assets.com/assets/nophoto/book/11...</td>\n",
       "      <td>33578710</td>\n",
       "      <td>105</td>\n",
       "      <td>52601307</td>\n",
       "      <td>Warped Ambition (A Jo Riskin Mystery Book 1)</td>\n",
       "      <td>Warped Ambition (A Jo Riskin Mystery Book 1)</td>\n",
       "    </tr>\n",
       "    <tr>\n",
       "      <th>38797</th>\n",
       "      <td></td>\n",
       "      <td>2</td>\n",
       "      <td>[]</td>\n",
       "      <td>US</td>\n",
       "      <td>slo</td>\n",
       "      <td>[{'count': '12655', 'name': 'to-read'}, {'coun...</td>\n",
       "      <td></td>\n",
       "      <td>false</td>\n",
       "      <td>3.98</td>\n",
       "      <td></td>\n",
       "      <td>...</td>\n",
       "      <td>7</td>\n",
       "      <td></td>\n",
       "      <td>2016</td>\n",
       "      <td>https://www.goodreads.com/book/show/31685658-n...</td>\n",
       "      <td>https://images.gr-assets.com/books/1472238000m...</td>\n",
       "      <td>31685658</td>\n",
       "      <td>5</td>\n",
       "      <td>26186624</td>\n",
       "      <td>Naslepo</td>\n",
       "      <td>Naslepo</td>\n",
       "    </tr>\n",
       "    <tr>\n",
       "      <th>82893</th>\n",
       "      <td></td>\n",
       "      <td>7</td>\n",
       "      <td>[]</td>\n",
       "      <td>US</td>\n",
       "      <td>por</td>\n",
       "      <td>[{'count': '1349', 'name': 'to-read'}, {'count...</td>\n",
       "      <td></td>\n",
       "      <td>false</td>\n",
       "      <td>3.81</td>\n",
       "      <td></td>\n",
       "      <td>...</td>\n",
       "      <td>3</td>\n",
       "      <td></td>\n",
       "      <td>2013</td>\n",
       "      <td>https://www.goodreads.com/book/show/17562797-a...</td>\n",
       "      <td>https://images.gr-assets.com/books/1362678651m...</td>\n",
       "      <td>17562797</td>\n",
       "      <td>55</td>\n",
       "      <td>11286470</td>\n",
       "      <td>A Confissão</td>\n",
       "      <td>A Confissão</td>\n",
       "    </tr>\n",
       "  </tbody>\n",
       "</table>\n",
       "<p>5 rows × 29 columns</p>\n",
       "</div>"
      ],
      "text/plain": [
       "              isbn  text_reviews_count     series country_code language_code  \\\n",
       "145981  0764205609                 215   [509640]           US         en-US   \n",
       "10273   0590453874                  35  [1099021]           US                 \n",
       "97167                               10   [962103]           US                 \n",
       "38797                                2         []           US           slo   \n",
       "82893                                7         []           US           por   \n",
       "\n",
       "                                          popular_shelves        asin  \\\n",
       "145981  [{'count': '2015', 'name': 'to-read'}, {'count...               \n",
       "10273   [{'count': '300', 'name': 'to-read'}, {'count'...               \n",
       "97167   [{'count': '320', 'name': 'to-read'}, {'count'...  B01MSWZ1C2   \n",
       "38797   [{'count': '12655', 'name': 'to-read'}, {'coun...               \n",
       "82893   [{'count': '1349', 'name': 'to-read'}, {'count...               \n",
       "\n",
       "       is_ebook  average_rating kindle_asin  ... publication_month  \\\n",
       "145981    false            3.49  B00B5JKLRW  ...                     \n",
       "10273     false            3.59              ...                 8   \n",
       "97167      true            4.12  B01MSWZ1C2  ...                     \n",
       "38797     false            3.98              ...                 7   \n",
       "82893     false            3.81              ...                 3   \n",
       "\n",
       "       edition_information publication_year  \\\n",
       "145981                                        \n",
       "10273                                  1993   \n",
       "97167                                         \n",
       "38797                                  2016   \n",
       "82893                                  2013   \n",
       "\n",
       "                                                      url  \\\n",
       "145981  https://www.goodreads.com/book/show/5103695-el...   \n",
       "10273   https://www.goodreads.com/book/show/176475.The...   \n",
       "97167   https://www.goodreads.com/book/show/33578710-w...   \n",
       "38797   https://www.goodreads.com/book/show/31685658-n...   \n",
       "82893   https://www.goodreads.com/book/show/17562797-a...   \n",
       "\n",
       "                                                image_url   book_id  \\\n",
       "145981  https://images.gr-assets.com/books/1267307488m...   5103695   \n",
       "10273   https://s.gr-assets.com/assets/nophoto/book/11...    176475   \n",
       "97167   https://s.gr-assets.com/assets/nophoto/book/11...  33578710   \n",
       "38797   https://images.gr-assets.com/books/1472238000m...  31685658   \n",
       "82893   https://images.gr-assets.com/books/1362678651m...  17562797   \n",
       "\n",
       "       ratings_count   work_id                                         title  \\\n",
       "145981          1528   5170459  Elisha's Bones (Jack Hawthorne Adventure #1)   \n",
       "10273            654  26229442                           The Dead Girlfriend   \n",
       "97167            105  52601307  Warped Ambition (A Jo Riskin Mystery Book 1)   \n",
       "38797              5  26186624                                       Naslepo   \n",
       "82893             55  11286470                                   A Confissão   \n",
       "\n",
       "                                title_without_series  \n",
       "145981  Elisha's Bones (Jack Hawthorne Adventure #1)  \n",
       "10273                            The Dead Girlfriend  \n",
       "97167   Warped Ambition (A Jo Riskin Mystery Book 1)  \n",
       "38797                                        Naslepo  \n",
       "82893                                    A Confissão  \n",
       "\n",
       "[5 rows x 29 columns]"
      ]
     },
     "execution_count": 3,
     "metadata": {},
     "output_type": "execute_result"
    }
   ],
   "source": [
    "data.sample(n=5)"
   ]
  },
  {
   "cell_type": "markdown",
   "metadata": {},
   "source": [
    "## Exploratory Data Analysis"
   ]
  },
  {
   "cell_type": "code",
   "execution_count": 4,
   "metadata": {},
   "outputs": [
    {
     "data": {
      "text/plain": [
       "(219235, 29)"
      ]
     },
     "execution_count": 4,
     "metadata": {},
     "output_type": "execute_result"
    }
   ],
   "source": [
    "# no. of observations & features\n",
    "data.shape"
   ]
  },
  {
   "cell_type": "code",
   "execution_count": 5,
   "metadata": {},
   "outputs": [
    {
     "data": {
      "text/plain": [
       "isbn                    0\n",
       "text_reviews_count      0\n",
       "series                  0\n",
       "country_code            0\n",
       "language_code           0\n",
       "popular_shelves         0\n",
       "asin                    0\n",
       "is_ebook                0\n",
       "average_rating          0\n",
       "kindle_asin             0\n",
       "similar_books           0\n",
       "description             0\n",
       "format                  0\n",
       "link                    0\n",
       "authors                 0\n",
       "publisher               0\n",
       "num_pages               0\n",
       "publication_day         0\n",
       "isbn13                  0\n",
       "publication_month       0\n",
       "edition_information     0\n",
       "publication_year        0\n",
       "url                     0\n",
       "image_url               0\n",
       "book_id                 0\n",
       "ratings_count           0\n",
       "work_id                 0\n",
       "title                   0\n",
       "title_without_series    0\n",
       "dtype: int64"
      ]
     },
     "execution_count": 5,
     "metadata": {},
     "output_type": "execute_result"
    }
   ],
   "source": [
    "# check for missing data\n",
    "data.isnull().sum()"
   ]
  },
  {
   "cell_type": "code",
   "execution_count": 6,
   "metadata": {},
   "outputs": [
    {
     "data": {
      "text/plain": [
       "isbn                     object\n",
       "text_reviews_count        int64\n",
       "series                   object\n",
       "country_code             object\n",
       "language_code            object\n",
       "popular_shelves          object\n",
       "asin                     object\n",
       "is_ebook                 object\n",
       "average_rating          float64\n",
       "kindle_asin              object\n",
       "similar_books            object\n",
       "description              object\n",
       "format                   object\n",
       "link                     object\n",
       "authors                  object\n",
       "publisher                object\n",
       "num_pages                object\n",
       "publication_day          object\n",
       "isbn13                   object\n",
       "publication_month        object\n",
       "edition_information      object\n",
       "publication_year         object\n",
       "url                      object\n",
       "image_url                object\n",
       "book_id                   int64\n",
       "ratings_count             int64\n",
       "work_id                   int64\n",
       "title                    object\n",
       "title_without_series     object\n",
       "dtype: object"
      ]
     },
     "execution_count": 6,
     "metadata": {},
     "output_type": "execute_result"
    }
   ],
   "source": [
    "# structure\n",
    "data.dtypes"
   ]
  },
  {
   "cell_type": "code",
   "execution_count": 7,
   "metadata": {},
   "outputs": [
    {
     "data": {
      "text/html": [
       "<div>\n",
       "<style scoped>\n",
       "    .dataframe tbody tr th:only-of-type {\n",
       "        vertical-align: middle;\n",
       "    }\n",
       "\n",
       "    .dataframe tbody tr th {\n",
       "        vertical-align: top;\n",
       "    }\n",
       "\n",
       "    .dataframe thead th {\n",
       "        text-align: right;\n",
       "    }\n",
       "</style>\n",
       "<table border=\"1\" class=\"dataframe\">\n",
       "  <thead>\n",
       "    <tr style=\"text-align: right;\">\n",
       "      <th></th>\n",
       "      <th>text_reviews_count</th>\n",
       "      <th>average_rating</th>\n",
       "      <th>book_id</th>\n",
       "      <th>ratings_count</th>\n",
       "      <th>work_id</th>\n",
       "    </tr>\n",
       "  </thead>\n",
       "  <tbody>\n",
       "    <tr>\n",
       "      <th>count</th>\n",
       "      <td>219235.000000</td>\n",
       "      <td>219235.000000</td>\n",
       "      <td>2.192350e+05</td>\n",
       "      <td>2.192350e+05</td>\n",
       "      <td>2.192350e+05</td>\n",
       "    </tr>\n",
       "    <tr>\n",
       "      <th>mean</th>\n",
       "      <td>36.715333</td>\n",
       "      <td>3.831517</td>\n",
       "      <td>1.517214e+07</td>\n",
       "      <td>5.239024e+02</td>\n",
       "      <td>1.800565e+07</td>\n",
       "    </tr>\n",
       "    <tr>\n",
       "      <th>std</th>\n",
       "      <td>370.819165</td>\n",
       "      <td>0.332023</td>\n",
       "      <td>1.057262e+07</td>\n",
       "      <td>9.129935e+03</td>\n",
       "      <td>1.831656e+07</td>\n",
       "    </tr>\n",
       "    <tr>\n",
       "      <th>min</th>\n",
       "      <td>0.000000</td>\n",
       "      <td>0.000000</td>\n",
       "      <td>1.640000e+02</td>\n",
       "      <td>0.000000e+00</td>\n",
       "      <td>1.370000e+02</td>\n",
       "    </tr>\n",
       "    <tr>\n",
       "      <th>25%</th>\n",
       "      <td>2.000000</td>\n",
       "      <td>3.650000</td>\n",
       "      <td>6.339338e+06</td>\n",
       "      <td>1.000000e+01</td>\n",
       "      <td>1.771542e+06</td>\n",
       "    </tr>\n",
       "    <tr>\n",
       "      <th>50%</th>\n",
       "      <td>6.000000</td>\n",
       "      <td>3.850000</td>\n",
       "      <td>1.573438e+07</td>\n",
       "      <td>3.500000e+01</td>\n",
       "      <td>1.337982e+07</td>\n",
       "    </tr>\n",
       "    <tr>\n",
       "      <th>75%</th>\n",
       "      <td>17.000000</td>\n",
       "      <td>4.040000</td>\n",
       "      <td>2.360379e+07</td>\n",
       "      <td>1.280000e+02</td>\n",
       "      <td>2.711272e+07</td>\n",
       "    </tr>\n",
       "    <tr>\n",
       "      <th>max</th>\n",
       "      <td>78438.000000</td>\n",
       "      <td>5.000000</td>\n",
       "      <td>3.651716e+07</td>\n",
       "      <td>2.046499e+06</td>\n",
       "      <td>5.837010e+07</td>\n",
       "    </tr>\n",
       "  </tbody>\n",
       "</table>\n",
       "</div>"
      ],
      "text/plain": [
       "       text_reviews_count  average_rating       book_id  ratings_count  \\\n",
       "count       219235.000000   219235.000000  2.192350e+05   2.192350e+05   \n",
       "mean            36.715333        3.831517  1.517214e+07   5.239024e+02   \n",
       "std            370.819165        0.332023  1.057262e+07   9.129935e+03   \n",
       "min              0.000000        0.000000  1.640000e+02   0.000000e+00   \n",
       "25%              2.000000        3.650000  6.339338e+06   1.000000e+01   \n",
       "50%              6.000000        3.850000  1.573438e+07   3.500000e+01   \n",
       "75%             17.000000        4.040000  2.360379e+07   1.280000e+02   \n",
       "max          78438.000000        5.000000  3.651716e+07   2.046499e+06   \n",
       "\n",
       "            work_id  \n",
       "count  2.192350e+05  \n",
       "mean   1.800565e+07  \n",
       "std    1.831656e+07  \n",
       "min    1.370000e+02  \n",
       "25%    1.771542e+06  \n",
       "50%    1.337982e+07  \n",
       "75%    2.711272e+07  \n",
       "max    5.837010e+07  "
      ]
     },
     "execution_count": 7,
     "metadata": {},
     "output_type": "execute_result"
    }
   ],
   "source": [
    "# summary stas for numeric columns (not really useful in this instance)\n",
    "data.describe()"
   ]
  },
  {
   "cell_type": "code",
   "execution_count": 8,
   "metadata": {},
   "outputs": [
    {
     "data": {
      "image/png": "[encoded data removed]",
      "text/plain": [
       "<Figure size 640x480 with 1 Axes>"
      ]
     },
     "metadata": {},
     "output_type": "display_data"
    }
   ],
   "source": [
    "# histogram for average ratings\n",
    "data[\"average_rating\"].hist(bins=20)\n",
    "\n",
    "# label & title\n",
    "plt.xlabel(\"Average Rating\")\n",
    "plt.ylabel(\"Frequency\")\n",
    "plt.title(\"Distribution of Average Ratings\")\n",
    "\n",
    "# display\n",
    "plt.show()\n",
    "plt.close()"
   ]
  },
  {
   "cell_type": "code",
   "execution_count": 9,
   "metadata": {},
   "outputs": [
    {
     "data": {
      "image/png": "[encoded data removed]",
      "text/plain": [
       "<Figure size 640x480 with 1 Axes>"
      ]
     },
     "metadata": {},
     "output_type": "display_data"
    }
   ],
   "source": [
    "# no. of books published per year\n",
    "data[\"publication_year\"].value_counts().sort_index().plot(kind=\"line\")\n",
    "\n",
    "# label & title\n",
    "plt.xlabel(\"Year of Publication\")\n",
    "plt.ylabel(\"Number of Books Published\")\n",
    "plt.title(\"Number of Books Published Per Year\")\n",
    "\n",
    "plt.show()\n",
    "plt.close()"
   ]
  },
  {
   "cell_type": "code",
   "execution_count": 10,
   "metadata": {},
   "outputs": [
    {
     "data": {
      "image/png": "[encoded data removed]",
      "text/plain": [
       "<Figure size 640x480 with 1 Axes>"
      ]
     },
     "metadata": {},
     "output_type": "display_data"
    }
   ],
   "source": [
    "# check the length of book descriptions\n",
    "data[\"description_length\"] = data[\"description\"].apply(len)\n",
    "data[\"description_length\"].hist(bins=20)\n",
    "\n",
    "# labels & title\n",
    "plt.xlabel(\"Length of Book Description\")\n",
    "plt.ylabel(\"Frequency\")\n",
    "plt.title(\"Distribution of Book Description Lengths\")\n",
    "\n",
    "# display\n",
    "plt.show()\n",
    "plt.close()"
   ]
  }
 ],
 "metadata": {
  "kernelspec": {
   "display_name": "base",
   "language": "python",
   "name": "python3"
  },
  "language_info": {
   "codemirror_mode": {
    "name": "ipython",
    "version": 3
   },
   "file_extension": ".py",
   "mimetype": "text/x-python",
   "name": "python",
   "nbconvert_exporter": "python",
   "pygments_lexer": "ipython3",
   "version": "3.12.2"
  }
 },
 "nbformat": 4,
 "nbformat_minor": 2
}
